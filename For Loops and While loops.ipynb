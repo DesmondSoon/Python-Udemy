{
 "cells": [
  {
   "cell_type": "code",
   "execution_count": null,
   "metadata": {},
   "outputs": [],
   "source": [
    "given_list2 = [5, 4, 4, 3, 1, -2, -3, -5]\n",
    "total = 0\n",
    "for element in given_list2:\n",
    "    if element >= 0:\n",
    "        break\n",
    "    total += element\n",
    "print (total)"
   ]
  },
  {
   "cell_type": "code",
   "execution_count": null,
   "metadata": {},
   "outputs": [],
   "source": [
    "total2 = 0\n",
    "j = 1\n",
    "while j < 5:\n",
    "    total2 += j\n",
    "    j += 1\n",
    "print (total2)\n",
    "        \n"
   ]
  },
  {
   "cell_type": "code",
   "execution_count": null,
   "metadata": {},
   "outputs": [],
   "source": [
    "given_list3 = [7, 5, 4, 4, 3, 1, -2, -3, -5, -7]\n",
    "\n",
    "total3 = 0\n",
    "n = -1\n",
    "while True:\n",
    "    total3 += given_list3[i]\n",
    "    n -= 1\n",
    "    if given_list3[i] > 0:\n",
    "        break\n",
    "print (total3)"
   ]
  },
  {
   "cell_type": "code",
   "execution_count": null,
   "metadata": {},
   "outputs": [],
   "source": [
    "a = [7, 5, 4, 4, 3, 1, -2, -3, -5, -7]\n",
    "\n",
    "total4 = 0\n",
    "i = 1\n",
    "while a[-i]<0:\n",
    "    total4 += a[-i]\n",
    "    i+=1\n",
    "print (total4)"
   ]
  },
  {
   "cell_type": "code",
   "execution_count": null,
   "metadata": {},
   "outputs": [],
   "source": [
    "given_list3 = [7, 5, 4, 4, 3, 1, -2, -3, -5, -7]\n",
    "\n",
    "total5=0\n",
    "i=9\n",
    "while True:\n",
    "    total5 +=given_list3[i]\n",
    "    i-=1\n",
    "    if given_list3[i]>0:\n",
    "        break\n",
    "print (total5)"
   ]
  },
  {
   "cell_type": "code",
   "execution_count": null,
   "metadata": {},
   "outputs": [],
   "source": [
    "range (1,100)\n",
    "\n",
    "total6 = 0\n",
    "for i in range(1,100):\n",
    "    if i % 3 == 0 or i % 5 == 0:\n",
    "        total6 += i\n",
    "print (total6)"
   ]
  }
 ],
 "metadata": {
  "kernelspec": {
   "display_name": "Python 3",
   "language": "python",
   "name": "python3"
  },
  "language_info": {
   "codemirror_mode": {
    "name": "ipython",
    "version": 3
   },
   "file_extension": ".py",
   "mimetype": "text/x-python",
   "name": "python",
   "nbconvert_exporter": "python",
   "pygments_lexer": "ipython3",
   "version": "3.7.3"
  }
 },
 "nbformat": 4,
 "nbformat_minor": 2
}
