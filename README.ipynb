{
 "cells": [
  {
   "cell_type": "markdown",
   "metadata": {},
   "source": [
    "# Python Udemy Course\n",
    "\n",
    "This repo contains my course files and homework assignments when learning through udemy.com\n",
    "\n",
    "\n",
    "This repo also includes projects assigned from the course.\n",
    "\n",
    "    Tic - Tac - Toe game\n",
    "    Blackjack game\n",
    "    Guessing game\n",
    "    \n",
    "Course was run by Jose Patt"
   ]
  }
 ],
 "metadata": {
  "kernelspec": {
   "display_name": "Python 3",
   "language": "python",
   "name": "python3"
  },
  "language_info": {
   "codemirror_mode": {
    "name": "ipython",
    "version": 3
   },
   "file_extension": ".py",
   "mimetype": "text/x-python",
   "name": "python",
   "nbconvert_exporter": "python",
   "pygments_lexer": "ipython3",
   "version": "3.7.3"
  }
 },
 "nbformat": 4,
 "nbformat_minor": 2
}
