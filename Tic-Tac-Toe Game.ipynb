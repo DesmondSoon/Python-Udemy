{
 "cells": [
  {
   "cell_type": "code",
   "execution_count": 1,
   "metadata": {},
   "outputs": [],
   "source": [
    "from IPython.display import clear_output"
   ]
  },
  {
   "cell_type": "code",
   "execution_count": 2,
   "metadata": {},
   "outputs": [],
   "source": [
    "def display_board(board):\n",
    "    clear_output()\n",
    "  \n",
    "    print(' ' + '_' + ' '+ '_' + ' ' + '_' + ' ')\n",
    "    print('|' + ' ' + '|'+ ' ' + '|' + ' ' + '|')\n",
    "    print('|' + board[1] + '|' +  board[2] + '|' + board[3] + '|' )\n",
    "    print('|' + '_' + '|'+ '_' + '|' + '_' + '|')\n",
    "    \n",
    "    print('|' + ' ' + '|'+ ' ' + '|' + ' ' + '|')\n",
    "    print('|' + board[4] + '|' +  board[5] + '|' + board[6] + '|' )\n",
    "    print('|' + '_' + '|'+ '_' + '|' + '_' + '|')\n",
    "    \n",
    "    print('|' + ' ' + '|'+ ' ' + '|' + ' ' + '|')\n",
    "    print('|' + board[7] + '|' +  board[8] + '|' + board[9] + '|' )\n",
    "    print('|' + '_' + '|'+ '_' + '|' + '_' + '|')"
   ]
  },
  {
   "cell_type": "code",
   "execution_count": 3,
   "metadata": {},
   "outputs": [
    {
     "name": "stdout",
     "output_type": "stream",
     "text": [
      " _ _ _ \n",
      "| | | |\n",
      "|X|O|X|\n",
      "|_|_|_|\n",
      "| | | |\n",
      "|O|X|O|\n",
      "|_|_|_|\n",
      "| | | |\n",
      "|X|O|X|\n",
      "|_|_|_|\n"
     ]
    }
   ],
   "source": [
    "test_board = ['#','X','O','X','O','X','O','X','O','X']\n",
    "display_board(test_board)"
   ]
  },
  {
   "cell_type": "markdown",
   "metadata": {},
   "source": [
    "Step 2: Write a function that can take in a player input and assign their marker as 'X' or 'O'. Think about using while loops to continually ask until you get a correct answer."
   ]
  },
  {
   "cell_type": "code",
   "execution_count": 4,
   "metadata": {},
   "outputs": [],
   "source": [
    "def player_input():\n",
    "    \n",
    "    # Ask the player for the input 'X' or 'O'\n",
    "    # Check if its correct.\n",
    "    \n",
    "    while True:\n",
    "        \n",
    "        player1 = input('Player1 please choose X or O: ')\n",
    "        \n",
    "        if player1 == 'X' or player1 == 'O':\n",
    "            break\n",
    "            \n",
    "    if player1 == 'X':\n",
    "        return ('X','O')\n",
    "    else:\n",
    "        return ('O','X')\n",
    "            \n",
    "        \n",
    "        \n",
    "            \n",
    "        \n",
    "        \n",
    "        "
   ]
  },
  {
   "cell_type": "markdown",
   "metadata": {},
   "source": [
    "Step 3: Write a function that takes in the board list object, a marker ('X' or 'O'), and a desired position (number 1-9) and assigns it to the board."
   ]
  },
  {
   "cell_type": "code",
   "execution_count": 5,
   "metadata": {},
   "outputs": [],
   "source": [
    "def place_marker(board,marker,position):\n",
    "    \n",
    "    board[position] = marker"
   ]
  },
  {
   "cell_type": "code",
   "execution_count": 6,
   "metadata": {},
   "outputs": [
    {
     "name": "stdout",
     "output_type": "stream",
     "text": [
      " _ _ _ \n",
      "| | | |\n",
      "|X|O|X|\n",
      "|_|_|_|\n",
      "| | | |\n",
      "|O|X|O|\n",
      "|_|_|_|\n",
      "| | | |\n",
      "|X|$|X|\n",
      "|_|_|_|\n"
     ]
    }
   ],
   "source": [
    "display_board(test_board)\n",
    "place_marker(test_board,'$',8)\n",
    "display_board(test_board)"
   ]
  },
  {
   "cell_type": "markdown",
   "metadata": {},
   "source": [
    "Step 4: Write a function that takes in a board and a mark (X or O) and then checks to see if that mark has won."
   ]
  },
  {
   "cell_type": "code",
   "execution_count": 7,
   "metadata": {},
   "outputs": [],
   "source": [
    "# How do we know the player has won?\n",
    "## If the board positions match horizontally and vertically\n",
    "\n",
    "def win_check(board,mark):\n",
    "    return ((board[1]==board[2]==board[3]==mark)or\n",
    "    (board[4]==board[5]==board[6]==mark)or\n",
    "    (board[7]==board[8]==board[9]==mark)or\n",
    "    (board[1]==board[4]==board[7]==mark)or\n",
    "    (board[2]==board[5]==board[8]==mark)or\n",
    "    (board[3]==board[6]==board[9]==mark)or\n",
    "    (board[1]==board[5]==board[9]==mark)or\n",
    "    (board[3]==board[5]==board[7]==mark))"
   ]
  },
  {
   "cell_type": "code",
   "execution_count": 8,
   "metadata": {},
   "outputs": [
    {
     "data": {
      "text/plain": [
       "True"
      ]
     },
     "execution_count": 8,
     "metadata": {},
     "output_type": "execute_result"
    }
   ],
   "source": [
    "win_check(test_board,'X')\n"
   ]
  },
  {
   "cell_type": "markdown",
   "metadata": {},
   "source": [
    "Step 5: Write a function that uses the random module to randomly decide which player goes first. You may want to lookup random.randint() Return a string of which player went first."
   ]
  },
  {
   "cell_type": "code",
   "execution_count": 9,
   "metadata": {},
   "outputs": [],
   "source": [
    "import random\n",
    "\n",
    "def choose_first():\n",
    "    \n",
    "    choose = random.randint(0,1)\n",
    "    if choose == 0:\n",
    "        return \"Player1\"\n",
    "    else:\n",
    "        return \"Player2\""
   ]
  },
  {
   "cell_type": "markdown",
   "metadata": {},
   "source": [
    "Step 6: Write a function that returns a boolean indicating whether a space on the board is freely available."
   ]
  },
  {
   "cell_type": "code",
   "execution_count": 10,
   "metadata": {},
   "outputs": [],
   "source": [
    "#How do we know if the space is free??\n",
    "## We know because if theres an empty string inside.\n",
    "\n",
    "def space_check(board,position):\n",
    "    \n",
    "    return board[position] == ' '"
   ]
  },
  {
   "cell_type": "code",
   "execution_count": 11,
   "metadata": {},
   "outputs": [
    {
     "name": "stdout",
     "output_type": "stream",
     "text": [
      "['#', 'X', 'O', 'X', 'O', 'X', 'O', 'X', '$', 'X']\n"
     ]
    },
    {
     "data": {
      "text/plain": [
       "False"
      ]
     },
     "execution_count": 11,
     "metadata": {},
     "output_type": "execute_result"
    }
   ],
   "source": [
    "print(test_board)\n",
    "space_check(test_board,3)"
   ]
  },
  {
   "cell_type": "markdown",
   "metadata": {},
   "source": [
    "Step 7: Write a function that checks if the board is full and returns a boolean value. True if full, False otherwise."
   ]
  },
  {
   "cell_type": "code",
   "execution_count": 19,
   "metadata": {},
   "outputs": [],
   "source": [
    "# How do we know the board is full?\n",
    "## If all position is filled.\n",
    "# How do we check if its full?\n",
    "## space_check func will check if theres an empty string.\n",
    "## so for loop int 1-9 and check if for loop int is in space check\n",
    "\n",
    "def full_board_check(board):\n",
    "    \n",
    "    for i in range(1,10):\n",
    "        if space_check(board, i):\n",
    "            return False\n",
    "    return True"
   ]
  },
  {
   "cell_type": "code",
   "execution_count": 20,
   "metadata": {},
   "outputs": [
    {
     "data": {
      "text/plain": [
       "True"
      ]
     },
     "execution_count": 20,
     "metadata": {},
     "output_type": "execute_result"
    }
   ],
   "source": [
    "full_board_check(test_board)"
   ]
  },
  {
   "cell_type": "markdown",
   "metadata": {},
   "source": [
    "Step 8: Write a function that asks for a player's next position (as a number 1-9) and then uses the function from step 6 to check if it's a free position. If it is, then return the position for later use."
   ]
  },
  {
   "cell_type": "code",
   "execution_count": 21,
   "metadata": {},
   "outputs": [],
   "source": [
    "# same as checking if player has entered the correct number.\n",
    "# While loop until break\n",
    "# use space_check to see if the position is available.\n",
    "\n",
    "def player_choice(board):\n",
    "     # i only require 1 of these statements to be true\n",
    "    position = 0\n",
    "    while position not in range(1,10) or not space_check(board,position):\n",
    "        position = int(input('Please input a number for place between 1-9:'))\n",
    "\n",
    "    return position\n",
    "        \n",
    "    \n",
    "    "
   ]
  },
  {
   "cell_type": "markdown",
   "metadata": {},
   "source": [
    "Step 9: Write a function that asks the player if they want to play again and returns a boolean True if they do want to play again."
   ]
  },
  {
   "cell_type": "code",
   "execution_count": 27,
   "metadata": {},
   "outputs": [],
   "source": [
    "def replay():\n",
    "    return input('Do you want to play again? y or n: ').lower().startswith('y')"
   ]
  },
  {
   "cell_type": "markdown",
   "metadata": {},
   "source": [
    "Step 10: Here comes the hard part! Use while loops and the functions you've made to run the game!"
   ]
  },
  {
   "cell_type": "code",
   "execution_count": null,
   "metadata": {},
   "outputs": [
    {
     "name": "stdout",
     "output_type": "stream",
     "text": [
      " _ _ _ \n",
      "| | | |\n",
      "|O|X|O|\n",
      "|_|_|_|\n",
      "| | | |\n",
      "|O|X| |\n",
      "|_|_|_|\n",
      "| | | |\n",
      "| |X| |\n",
      "|_|_|_|\n",
      "P2 has won!\n",
      "Do you want to play again? y or n: y\n",
      "Player1 please choose X or O: O\n",
      "Player2 will go first\n"
     ]
    }
   ],
   "source": [
    "print('Welcome to tic tac toe')\n",
    "\n",
    "while True:\n",
    "    \n",
    "    theBoard = [' '] * 10\n",
    "\n",
    "    player1_marker,player2_marker = player_input()\n",
    "    \n",
    "\n",
    "    name = choose_first()\n",
    "    \n",
    "    \n",
    "\n",
    "    print(name + ' will go first')\n",
    "\n",
    "    start = input('Are you ready? y or n: ').lower()\n",
    "\n",
    "    if start == \"y\":\n",
    "        game_on = True\n",
    "    else:\n",
    "        game_on = False\n",
    "\n",
    "    # whare are the things needed to set the game?\n",
    "    # board list\n",
    "    ## player markers\n",
    "\n",
    "    \n",
    "    \n",
    "    while game_on:\n",
    "        \n",
    "        if name == 'Player1':\n",
    "            \n",
    "            display_board(theBoard)\n",
    "            position = player_choice(theBoard)\n",
    "            place_marker(theBoard, player1_marker, position)\n",
    "            \n",
    "            if win_check(theBoard,player1_marker):\n",
    "                \n",
    "                display_board(theBoard)\n",
    "                print('P1 has won!')\n",
    "                game_on = False\n",
    "                \n",
    "            else:\n",
    "                if full_board_check(theBoard):\n",
    "                    \n",
    "                    display_board(theBoard)\n",
    "                    print('Its a tie')\n",
    "                    break\n",
    "                    \n",
    "                else:\n",
    "                    name = 'Player2'\n",
    "        \n",
    "            \n",
    "        else:\n",
    "            \n",
    "            \n",
    "            display_board(theBoard)\n",
    "            position = player_choice(theBoard)\n",
    "            place_marker(theBoard,player2_marker,position)\n",
    "            display(theBoard)\n",
    "            \n",
    "            if win_check(theBoard,player2_marker):\n",
    "                display_board(theBoard)\n",
    "                print('P2 has won!')\n",
    "                game_on = False\n",
    "            else:\n",
    "                if full_board_check(theBoard):\n",
    "                    display_board(theBoard)\n",
    "                    print('Its a tie')\n",
    "                    break\n",
    "                else:\n",
    "                    name = 'Player1'\n",
    "        \n",
    "        \n",
    "    \n",
    "    if not replay():\n",
    "        break\n",
    "        "
   ]
  },
  {
   "cell_type": "code",
   "execution_count": null,
   "metadata": {},
   "outputs": [],
   "source": []
  },
  {
   "cell_type": "code",
   "execution_count": null,
   "metadata": {},
   "outputs": [],
   "source": []
  }
 ],
 "metadata": {
  "kernelspec": {
   "display_name": "Python 3",
   "language": "python",
   "name": "python3"
  },
  "language_info": {
   "codemirror_mode": {
    "name": "ipython",
    "version": 3
   },
   "file_extension": ".py",
   "mimetype": "text/x-python",
   "name": "python",
   "nbconvert_exporter": "python",
   "pygments_lexer": "ipython3",
   "version": "3.7.3"
  }
 },
 "nbformat": 4,
 "nbformat_minor": 2
}
