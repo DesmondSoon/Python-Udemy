{
 "cells": [
  {
   "cell_type": "code",
   "execution_count": 12,
   "metadata": {},
   "outputs": [],
   "source": [
    "mylist = [x for x in 'wish']"
   ]
  },
  {
   "cell_type": "code",
   "execution_count": 13,
   "metadata": {},
   "outputs": [
    {
     "data": {
      "text/plain": [
       "['w', 'i', 's', 'h']"
      ]
     },
     "execution_count": 13,
     "metadata": {},
     "output_type": "execute_result"
    }
   ],
   "source": [
    "mylist"
   ]
  },
  {
   "cell_type": "code",
   "execution_count": 14,
   "metadata": {},
   "outputs": [],
   "source": [
    "# What if you wanted to add if statement?\n"
   ]
  },
  {
   "cell_type": "code",
   "execution_count": 23,
   "metadata": {},
   "outputs": [],
   "source": [
    "mylist = [ num**2 for num in range(0,11) if num%2==0]"
   ]
  },
  {
   "cell_type": "code",
   "execution_count": 24,
   "metadata": {},
   "outputs": [
    {
     "data": {
      "text/plain": [
       "[0, 4, 16, 36, 64, 100]"
      ]
     },
     "execution_count": 24,
     "metadata": {},
     "output_type": "execute_result"
    }
   ],
   "source": [
    "mylist"
   ]
  },
  {
   "cell_type": "code",
   "execution_count": 25,
   "metadata": {},
   "outputs": [],
   "source": [
    "celcuis = [0,10,20,30.5]\n",
    "\n",
    "fahrenheit =[((9/5)*temp+32) for temp in celcuis]"
   ]
  },
  {
   "cell_type": "code",
   "execution_count": 26,
   "metadata": {},
   "outputs": [
    {
     "data": {
      "text/plain": [
       "[0.0, 18.0, 36.0, 54.9]"
      ]
     },
     "execution_count": 26,
     "metadata": {},
     "output_type": "execute_result"
    }
   ],
   "source": [
    "fahrenheit"
   ]
  },
  {
   "cell_type": "code",
   "execution_count": 29,
   "metadata": {},
   "outputs": [],
   "source": [
    "fahrenheit = []\n",
    "\n",
    "for temp in celcuis:\n",
    "    fahrenheit.append((9/5)*temp+32)"
   ]
  },
  {
   "cell_type": "code",
   "execution_count": 30,
   "metadata": {},
   "outputs": [
    {
     "data": {
      "text/plain": [
       "[32.0, 50.0, 68.0, 86.9]"
      ]
     },
     "execution_count": 30,
     "metadata": {},
     "output_type": "execute_result"
    }
   ],
   "source": [
    "fahrenheit"
   ]
  },
  {
   "cell_type": "code",
   "execution_count": 31,
   "metadata": {},
   "outputs": [],
   "source": [
    "# Doing if else statement in list comprehension\n",
    "# readibility is much more important then slick one liners\n"
   ]
  },
  {
   "cell_type": "code",
   "execution_count": 37,
   "metadata": {},
   "outputs": [
    {
     "name": "stdout",
     "output_type": "stream",
     "text": [
      "[0, 'Odd', 2, 'Odd', 4, 'Odd', 6, 'Odd', 8, 'Odd', 10]\n"
     ]
    }
   ],
   "source": [
    "result = [x if x%2==0 else 'Odd' for x in range(11)]\n",
    "\n",
    "print (result)"
   ]
  },
  {
   "cell_type": "code",
   "execution_count": 38,
   "metadata": {},
   "outputs": [],
   "source": [
    "# Pay attention the the fact that its backward comparing\n",
    "# to the other list comprehension we have done."
   ]
  },
  {
   "cell_type": "code",
   "execution_count": 40,
   "metadata": {},
   "outputs": [
    {
     "name": "stdout",
     "output_type": "stream",
     "text": [
      "[1, 100, 1000, 2, 200, 2000, 3, 300, 3000]\n"
     ]
    }
   ],
   "source": [
    "# Write the following in list comprehension\n",
    "\n",
    "mylist=[]\n",
    "\n",
    "for x in [1,2,3]:\n",
    "    for y in[1,100,1000]:\n",
    "        mylist.append(x*y)\n",
    "\n",
    "print (mylist)"
   ]
  },
  {
   "cell_type": "code",
   "execution_count": 43,
   "metadata": {},
   "outputs": [
    {
     "name": "stdout",
     "output_type": "stream",
     "text": [
      "[1, 100, 1000, 2, 200, 2000, 3, 300, 3000]\n"
     ]
    }
   ],
   "source": [
    "mylist=[x*y for x in [1,2,3] for y in [1,100,1000]]\n",
    "\n",
    "print(mylist)"
   ]
  },
  {
   "cell_type": "code",
   "execution_count": 44,
   "metadata": {},
   "outputs": [],
   "source": [
    "# Readablity First!.\n",
    "# We can add Numbers first on the first temporary\n",
    "# variable."
   ]
  },
  {
   "cell_type": "code",
   "execution_count": 92,
   "metadata": {},
   "outputs": [
    {
     "name": "stdout",
     "output_type": "stream",
     "text": [
      "start\n",
      "s\n",
      "sentence\n"
     ]
    }
   ],
   "source": [
    "\n",
    "# Use for, .split(), and if to create a Statement that will print out words that start with 's':\n",
    "\n",
    "st = 'Print only the words that start with s in this sentence'\n",
    "\n",
    "\n",
    "for letter in st.split():\n",
    "    if letter[0] == 's':\n",
    "        print(letter)\n",
    "\n"
   ]
  },
  {
   "cell_type": "code",
   "execution_count": 52,
   "metadata": {},
   "outputs": [
    {
     "data": {
      "text/plain": [
       "[0, 2, 4, 6, 8, 10]"
      ]
     },
     "execution_count": 52,
     "metadata": {},
     "output_type": "execute_result"
    }
   ],
   "source": [
    "list(range(0,11,2))"
   ]
  },
  {
   "cell_type": "code",
   "execution_count": 98,
   "metadata": {},
   "outputs": [],
   "source": [
    "mynum = [num for num in range(0,51) if num%3==0]"
   ]
  },
  {
   "cell_type": "code",
   "execution_count": 99,
   "metadata": {},
   "outputs": [
    {
     "name": "stdout",
     "output_type": "stream",
     "text": [
      "[0, 3, 6, 9, 12, 15, 18, 21, 24, 27, 30, 33, 36, 39, 42, 45, 48]\n"
     ]
    }
   ],
   "source": [
    "print(mynum)"
   ]
  },
  {
   "cell_type": "code",
   "execution_count": 20,
   "metadata": {},
   "outputs": [
    {
     "name": "stdout",
     "output_type": "stream",
     "text": [
      "word\n",
      "in\n",
      "this\n",
      "sentence\n",
      "that\n",
      "an\n",
      "even\n",
      "number\n",
      "of\n"
     ]
    }
   ],
   "source": [
    "st = 'Print every word in this sentence that has an even number of letters'\n",
    "\n",
    "\n",
    "for sentence in st.split():\n",
    "    if len(sentence)%2==0:\n",
    "        print(sentence)\n",
    "\n",
    "    \n",
    "    \n",
    "    "
   ]
  },
  {
   "cell_type": "code",
   "execution_count": 55,
   "metadata": {},
   "outputs": [
    {
     "name": "stdout",
     "output_type": "stream",
     "text": [
      "0 is FizzBuzz\n",
      "1\n",
      "2\n",
      "3 is Fizz\n",
      "4\n",
      "5 is Buzz\n",
      "6 is Fizz\n",
      "7\n",
      "8\n",
      "9 is Fizz\n",
      "10 is Buzz\n",
      "11\n",
      "12 is Fizz\n",
      "13\n",
      "14\n",
      "15 is FizzBuzz\n",
      "16\n",
      "17\n",
      "18 is Fizz\n",
      "19\n",
      "20 is Buzz\n",
      "21 is Fizz\n",
      "22\n",
      "23\n",
      "24 is Fizz\n",
      "25 is Buzz\n",
      "26\n",
      "27 is Fizz\n",
      "28\n",
      "29\n",
      "30 is FizzBuzz\n",
      "31\n",
      "32\n",
      "33 is Fizz\n",
      "34\n",
      "35 is Buzz\n",
      "36 is Fizz\n",
      "37\n",
      "38\n",
      "39 is Fizz\n",
      "40 is Buzz\n",
      "41\n",
      "42 is Fizz\n",
      "43\n",
      "44\n",
      "45 is FizzBuzz\n",
      "46\n",
      "47\n",
      "48 is Fizz\n",
      "49\n",
      "50 is Buzz\n",
      "51 is Fizz\n",
      "52\n",
      "53\n",
      "54 is Fizz\n",
      "55 is Buzz\n",
      "56\n",
      "57 is Fizz\n",
      "58\n",
      "59\n",
      "60 is FizzBuzz\n",
      "61\n",
      "62\n",
      "63 is Fizz\n",
      "64\n",
      "65 is Buzz\n",
      "66 is Fizz\n",
      "67\n",
      "68\n",
      "69 is Fizz\n",
      "70 is Buzz\n",
      "71\n",
      "72 is Fizz\n",
      "73\n",
      "74\n",
      "75 is FizzBuzz\n",
      "76\n",
      "77\n",
      "78 is Fizz\n",
      "79\n",
      "80 is Buzz\n",
      "81 is Fizz\n",
      "82\n",
      "83\n",
      "84 is Fizz\n",
      "85 is Buzz\n",
      "86\n",
      "87 is Fizz\n",
      "88\n",
      "89\n",
      "90 is FizzBuzz\n",
      "91\n",
      "92\n",
      "93 is Fizz\n",
      "94\n",
      "95 is Buzz\n",
      "96 is Fizz\n",
      "97\n",
      "98\n",
      "99 is Fizz\n",
      "100 is Buzz\n"
     ]
    }
   ],
   "source": [
    "# Write a program that prints the integers from 1 to 100.\n",
    "# But for multiples of three print \"Fizz\" instead of the number, \n",
    "# and for the multiples of five print \"Buzz\".\n",
    "# For numbers which are multiples of both three and five print \"FizzBuzz\".\n",
    "\n",
    "\n",
    "for num in range(0,101):\n",
    "    if num%3==0 and num%5==0:\n",
    "        print (num ,'is FizzBuzz')\n",
    "    elif num%5==0:\n",
    "        print (num ,'is Buzz')\n",
    "    elif num%3==0:\n",
    "        print (num, 'is Fizz')\n",
    "    else:\n",
    "        print(num)\n",
    "   \n",
    "        \n",
    "        \n",
    "    \n"
   ]
  },
  {
   "cell_type": "code",
   "execution_count": 49,
   "metadata": {},
   "outputs": [
    {
     "name": "stdout",
     "output_type": "stream",
     "text": [
      "['C', 'a', 'l', 'o', 't', 'f', 'l', 'o', 'e', 'w', 'i', 't', 's']\n"
     ]
    }
   ],
   "source": [
    "# Use List Comprehension to create a list \n",
    "# of the first letters of every word in the string below\n",
    "\n",
    "st = 'Create a list of the first letters of every word in this string'\n",
    "\n",
    "mystring= [letter[0] for letter in st.split()]\n",
    "print (mystring)"
   ]
  },
  {
   "cell_type": "code",
   "execution_count": 50,
   "metadata": {},
   "outputs": [],
   "source": [
    "from random import randint"
   ]
  },
  {
   "cell_type": "code",
   "execution_count": 57,
   "metadata": {},
   "outputs": [
    {
     "data": {
      "text/plain": [
       "48"
      ]
     },
     "execution_count": 57,
     "metadata": {},
     "output_type": "execute_result"
    }
   ],
   "source": [
    "randint(1,100)"
   ]
  },
  {
   "cell_type": "code",
   "execution_count": 58,
   "metadata": {},
   "outputs": [],
   "source": [
    "mylist = [1,2,3]"
   ]
  },
  {
   "cell_type": "code",
   "execution_count": null,
   "metadata": {},
   "outputs": [],
   "source": [
    "mylist."
   ]
  }
 ],
 "metadata": {
  "kernelspec": {
   "display_name": "Python 3",
   "language": "python",
   "name": "python3"
  },
  "language_info": {
   "codemirror_mode": {
    "name": "ipython",
    "version": 3
   },
   "file_extension": ".py",
   "mimetype": "text/x-python",
   "name": "python",
   "nbconvert_exporter": "python",
   "pygments_lexer": "ipython3",
   "version": "3.7.3"
  }
 },
 "nbformat": 4,
 "nbformat_minor": 2
}
