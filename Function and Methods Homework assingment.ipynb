{
 "cells": [
  {
   "cell_type": "markdown",
   "metadata": {},
   "source": [
    " Write a function that computes the volume of a sphere given its radius.\n",
    "\n",
    " The volume of a sphere is given as 4/3 == 3.14r**3\n",
    "\n"
   ]
  },
  {
   "cell_type": "code",
   "execution_count": 1,
   "metadata": {},
   "outputs": [],
   "source": [
    "# Create a func.\n",
    "def vol(rad):\n",
    "    # Remember PEMDAS\n",
    "    # The equation for volume of a sphere is\n",
    "    # 4/3 * 3.14 * rad**3 (PEMDAS)\n",
    "    return ((4/3)*(3.14))*rad**3\n",
    "    \n"
   ]
  },
  {
   "cell_type": "code",
   "execution_count": 2,
   "metadata": {},
   "outputs": [
    {
     "data": {
      "text/plain": [
       "33.49333333333333"
      ]
     },
     "execution_count": 2,
     "metadata": {},
     "output_type": "execute_result"
    }
   ],
   "source": [
    "vol(2)"
   ]
  },
  {
   "cell_type": "markdown",
   "metadata": {},
   "source": [
    "Write a function that checks whether a number is in a given range (inclusive of high and low)\n"
   ]
  },
  {
   "cell_type": "code",
   "execution_count": null,
   "metadata": {},
   "outputs": [],
   "source": [
    "def ran_check(num,low,high):\n",
    "    # if the num is in range of low - high\n",
    "    # why include +1 in range(low,high)?\n",
    "    # To make sure its going to the end. and +1 more.\n",
    "    # If we didnt include that the last number will count as not in the range.\n",
    "    if num in range(low,high+1):\n",
    "        return (f'{num}, is IN range of {low} and {high}')\n",
    "    else:\n",
    "        return (f'{num}, is NOT between {low} and {high}')\n",
    "    # repeat the same question above. But pass in as a bool\n",
    "def ran_bool(num,low,high):\n",
    "    if num in range(low,high+1):\n",
    "        return True\n",
    "    else:\n",
    "        return False"
   ]
  },
  {
   "cell_type": "code",
   "execution_count": null,
   "metadata": {},
   "outputs": [],
   "source": [
    "ran_check(7,2,7)"
   ]
  },
  {
   "cell_type": "code",
   "execution_count": null,
   "metadata": {},
   "outputs": [],
   "source": [
    "ran_bool(11,1,10)"
   ]
  },
  {
   "cell_type": "code",
   "execution_count": null,
   "metadata": {},
   "outputs": [],
   "source": [
    "ran_bool(3,1,10)"
   ]
  },
  {
   "cell_type": "markdown",
   "metadata": {},
   "source": [
    " Write a Python function that accepts a string and calculates the number of upper case letters and lower case letters.\n",
    " Sample String : 'Hello Mr. Rogers, how are you this fine Tuesday?'\n",
    " Expected Output : \n",
    " No. of Upper case characters : 4\n",
    " No. of Lower case Characters : 33"
   ]
  },
  {
   "cell_type": "code",
   "execution_count": null,
   "metadata": {},
   "outputs": [],
   "source": [
    "# Create func.\n",
    "def up_low(s):\n",
    "    # we need to find the upper and low case of the string.\n",
    "    # Store it.\n",
    "    upp_case =0\n",
    "    low_case =0\n",
    "    # use method .isupper() or .islower()\n",
    "    # Do we iterate?\n",
    "    for l in s:\n",
    "        if l.isupper():\n",
    "            upp_case += 1\n",
    "#             print (f'No. of Upper case characters :{upp_case}')\n",
    "        elif l.islower():\n",
    "            low_case += 1\n",
    "#                 print (f'No. of Lower case characters :{low_case}')\n",
    "        else:\n",
    "            pass\n",
    "    # and print/return it\n",
    "    \n",
    "\n",
    "    print ((f'No. of Upper case characters :{upp_case}'))\n",
    "    print ((f'No. of Lower case characters :{low_case}'))"
   ]
  },
  {
   "cell_type": "code",
   "execution_count": null,
   "metadata": {},
   "outputs": [],
   "source": [
    "s = 'Hello Mr. Rogers, how are you this fine Tuesday?'\n",
    "up_low(s)"
   ]
  },
  {
   "cell_type": "markdown",
   "metadata": {},
   "source": [
    "Write a Python function that takes a list and returns a new list with unique elements of the first list.\n"
   ]
  },
  {
   "cell_type": "code",
   "execution_count": null,
   "metadata": {},
   "outputs": [],
   "source": [
    "def unique_list(n):\n",
    "    # unique list are sets. we can use set func\n",
    "    for num in n:\n",
    "        return set(n)"
   ]
  },
  {
   "cell_type": "code",
   "execution_count": null,
   "metadata": {},
   "outputs": [],
   "source": [
    "unique_list([1,1,1,1,2,2,3,3,3,3,4,5])"
   ]
  },
  {
   "cell_type": "markdown",
   "metadata": {},
   "source": [
    " Write a Python function to multiply all the numbers in a list.\n",
    "\n",
    " create a func.\n",
    " multiply all the numbers in the list.\n",
    " create a var to store the sum\n",
    " iterate through the numbers and multiply them and add to the sum"
   ]
  },
  {
   "cell_type": "code",
   "execution_count": null,
   "metadata": {},
   "outputs": [],
   "source": [
    "def multiply(numbers):\n",
    "    sume = 0\n",
    "    for m in range(0,len(numbers)+1):\n",
    "        sume += numbers[m] * numbers[m+1]\n",
    "        return sume\n",
    "    # you dont have to over complicate it.\n",
    "    # by using iterating through the list. and adding the sum\n",
    "        "
   ]
  },
  {
   "cell_type": "code",
   "execution_count": null,
   "metadata": {},
   "outputs": [],
   "source": [
    "def multiply(numbers):\n",
    "    # we set it to one because of the start of list\n",
    "    total = 1\n",
    "    for m in numbers:\n",
    "        total *= m\n",
    "    return total\n",
    "    "
   ]
  },
  {
   "cell_type": "markdown",
   "metadata": {},
   "source": [
    "Write a Python function that checks whether a passed in string is palindrome or not.\n",
    "\n",
    "create func.\n",
    "Take in the string and reverse and check if its == to the string\n",
    "Watch out for spaces in strings."
   ]
  },
  {
   "cell_type": "code",
   "execution_count": null,
   "metadata": {},
   "outputs": [],
   "source": [
    "palindrome('hellehe')"
   ]
  },
  {
   "cell_type": "code",
   "execution_count": null,
   "metadata": {},
   "outputs": [],
   "source": [
    "palindrome('nurses run')"
   ]
  },
  {
   "cell_type": "markdown",
   "metadata": {},
   "source": [
    "Write a Python function to check whether a string is pangram or not.\n",
    "\n",
    "Note : Pangrams are words or sentences containing every letter of the alphabet at least once.\n",
    "For example : \"The quick brown fox jumps over the lazy dog\"\n"
   ]
  },
  {
   "cell_type": "code",
   "execution_count": null,
   "metadata": {},
   "outputs": [],
   "source": [
    "import string\n",
    "\n",
    "def ispangram(str1, alphabet=string.ascii_lowercase):\n",
    "    sort = set(str1.lower().replace(' ',''))\n",
    "    lower = ''.join(sorted(sort))\n",
    "    print(lower)\n",
    "    print(alphabet)\n",
    "    if lower == alphabet:\n",
    "        return True\n",
    "    else:\n",
    "        return False"
   ]
  },
  {
   "cell_type": "code",
   "execution_count": null,
   "metadata": {},
   "outputs": [],
   "source": [
    "ispangram(\"The quick brown fox jumps over the lazy dog\")"
   ]
  }
 ],
 "metadata": {
  "kernelspec": {
   "display_name": "Python 3",
   "language": "python",
   "name": "python3"
  },
  "language_info": {
   "codemirror_mode": {
    "name": "ipython",
    "version": 3
   },
   "file_extension": ".py",
   "mimetype": "text/x-python",
   "name": "python",
   "nbconvert_exporter": "python",
   "pygments_lexer": "ipython3",
   "version": "3.7.3"
  }
 },
 "nbformat": 4,
 "nbformat_minor": 2
}
