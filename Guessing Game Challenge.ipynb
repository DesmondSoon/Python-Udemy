{
 "cells": [
  {
   "cell_type": "code",
   "execution_count": 2,
   "metadata": {},
   "outputs": [],
   "source": [
    "import random"
   ]
  },
  {
   "cell_type": "code",
   "execution_count": 3,
   "metadata": {},
   "outputs": [
    {
     "name": "stdout",
     "output_type": "stream",
     "text": [
      "38\n"
     ]
    }
   ],
   "source": [
    "num = random.randint(1,100)\n",
    "print(num)"
   ]
  },
  {
   "cell_type": "code",
   "execution_count": 4,
   "metadata": {},
   "outputs": [
    {
     "name": "stdout",
     "output_type": "stream",
     "text": [
      "Welcome to the Guessing Game!\n",
      "Im Thinking of a number between 1-100\n",
      "If your guess is within 10 of my number, I will say Hot!\n",
      "If your guess is not within 10 of my number, I will say Cold!\n",
      "If your guess is closer than your recent guess, I will say Getting Hotter!\n",
      "If your guess is further than your recent guess, I will say Getting Colder!\n"
     ]
    }
   ],
   "source": [
    "print('Welcome to the Guessing Game!')\n",
    "print('Im Thinking of a number between 1-100')\n",
    "print('If your guess is within 10 of my number, I will say Hot!')\n",
    "print('If your guess is not within 10 of my number, I will say Cold!')\n",
    "print('If your guess is closer than your recent guess, I will say Getting Hotter!')\n",
    "print('If your guess is further than your recent guess, I will say Getting Colder!')\n",
    "\n"
   ]
  },
  {
   "cell_type": "code",
   "execution_count": 7,
   "metadata": {},
   "outputs": [
    {
     "name": "stdout",
     "output_type": "stream",
     "text": [
      "38\n",
      "Im thinking of a number between 1-100\n",
      " What is your guess?:12\n",
      "Cold!\n",
      "Im thinking of a number between 1-100\n",
      " What is your guess?:20\n",
      "Getting Hotter\n",
      "Im thinking of a number between 1-100\n",
      " What is your guess?:30\n",
      "Getting Hotter\n",
      "Im thinking of a number between 1-100\n",
      " What is your guess?:38\n",
      "CONGRATULATIONS, YOU GUESSED IT IN ONLY 4 GUESSES!!\n"
     ]
    }
   ],
   "source": [
    "guesses=[0]\n",
    "print(num)\n",
    "while True:\n",
    "    guess = int (input('Im thinking of a number between 1-100\\n What is your guess?:'))\n",
    "    if guess < 1 or guess >100:\n",
    "        print('Your OUT OF BOUND\\n Try again:')\n",
    "        continue\n",
    "    if guess == num:\n",
    "        print(f'CONGRATULATIONS, YOU GUESSED IT IN ONLY {len(guesses)} GUESSES!!')\n",
    "        break\n",
    "    guesses.append(guess)\n",
    "    \n",
    "    if guesses[-2]:\n",
    "        if abs(num-guess) < abs(num-guesses[-2]):\n",
    "            print('Getting Hotter')\n",
    "        else:\n",
    "            print('Getting Colder')\n",
    "    else:\n",
    "        if abs(num-guess)<=10:\n",
    "            print('Warm!')\n",
    "        else:\n",
    "            print('Cold!')\n",
    "            \n",
    "    "
   ]
  },
  {
   "cell_type": "code",
   "execution_count": null,
   "metadata": {},
   "outputs": [],
   "source": []
  },
  {
   "cell_type": "code",
   "execution_count": null,
   "metadata": {},
   "outputs": [],
   "source": []
  }
 ],
 "metadata": {
  "kernelspec": {
   "display_name": "Python 3",
   "language": "python",
   "name": "python3"
  },
  "language_info": {
   "codemirror_mode": {
    "name": "ipython",
    "version": 3
   },
   "file_extension": ".py",
   "mimetype": "text/x-python",
   "name": "python",
   "nbconvert_exporter": "python",
   "pygments_lexer": "ipython3",
   "version": "3.7.3"
  }
 },
 "nbformat": 4,
 "nbformat_minor": 2
}
